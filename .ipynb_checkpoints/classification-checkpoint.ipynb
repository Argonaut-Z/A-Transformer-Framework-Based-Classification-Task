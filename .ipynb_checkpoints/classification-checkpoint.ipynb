{
 "cells": [
  {
   "cell_type": "code",
   "execution_count": null,
   "metadata": {
    "ExecutionIndicator": {
     "show": true
    },
    "tags": []
   },
   "outputs": [],
   "source": [
    "# !pip install torch==2.2.0 torchtext==0.17.0 numpy==1.26.4"
   ]
  },
  {
   "cell_type": "code",
   "execution_count": 1,
   "metadata": {
    "execution": {
     "iopub.execute_input": "2024-12-18T13:27:26.379176Z",
     "iopub.status.busy": "2024-12-18T13:27:26.378856Z",
     "iopub.status.idle": "2024-12-18T13:27:28.503901Z",
     "shell.execute_reply": "2024-12-18T13:27:28.503425Z",
     "shell.execute_reply.started": "2024-12-18T13:27:26.379156Z"
    },
    "tags": []
   },
   "outputs": [],
   "source": [
    "import torch\n",
    "import torchtext\n",
    "import numpy"
   ]
  },
  {
   "cell_type": "code",
   "execution_count": 2,
   "metadata": {
    "execution": {
     "iopub.execute_input": "2024-12-18T13:27:29.991034Z",
     "iopub.status.busy": "2024-12-18T13:27:29.990601Z",
     "iopub.status.idle": "2024-12-18T13:27:29.993746Z",
     "shell.execute_reply": "2024-12-18T13:27:29.993179Z",
     "shell.execute_reply.started": "2024-12-18T13:27:29.991007Z"
    },
    "tags": []
   },
   "outputs": [],
   "source": [
    "import os"
   ]
  },
  {
   "cell_type": "code",
   "execution_count": 3,
   "metadata": {
    "ExecutionIndicator": {
     "show": true
    },
    "execution": {
     "iopub.execute_input": "2024-12-18T13:27:30.913412Z",
     "iopub.status.busy": "2024-12-18T13:27:30.913072Z",
     "iopub.status.idle": "2024-12-18T13:27:30.916891Z",
     "shell.execute_reply": "2024-12-18T13:27:30.916221Z",
     "shell.execute_reply.started": "2024-12-18T13:27:30.913391Z"
    },
    "tags": []
   },
   "outputs": [
    {
     "name": "stdout",
     "output_type": "stream",
     "text": [
      "/mnt/workspace\n"
     ]
    }
   ],
   "source": [
    "path = os.getcwd()\n",
    "print(path)"
   ]
  },
  {
   "cell_type": "code",
   "execution_count": null,
   "metadata": {},
   "outputs": [],
   "source": []
  }
 ],
 "metadata": {
  "kernelspec": {
   "display_name": "Python 3 (ipykernel)",
   "language": "python",
   "name": "python3"
  },
  "language_info": {
   "codemirror_mode": {
    "name": "ipython",
    "version": 3
   },
   "file_extension": ".py",
   "mimetype": "text/x-python",
   "name": "python",
   "nbconvert_exporter": "python",
   "pygments_lexer": "ipython3",
   "version": "3.10.14"
  }
 },
 "nbformat": 4,
 "nbformat_minor": 4
}
